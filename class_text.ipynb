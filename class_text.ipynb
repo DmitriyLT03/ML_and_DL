{
  "cells": [
    {
      "cell_type": "markdown",
      "metadata": {
        "id": "UcjOAv9juIvo"
      },
      "source": [
        "#классификация текстов"
      ]
    },
    {
      "cell_type": "code",
      "execution_count": null,
      "metadata": {
        "id": "USysYggpuIvs"
      },
      "outputs": [],
      "source": [
        "import pandas as pd"
      ]
    },
    {
      "cell_type": "code",
      "execution_count": null,
      "metadata": {
        "id": "tXkLjxkuuIvu"
      },
      "outputs": [],
      "source": [
        "train = pd.read_csv('/Users/macbook/Desktop/avito-category-prediction/train.csv')\n",
        "test = pd.read_csv('/Users/macbook/Desktop/avito-category-prediction/test.csv')"
      ]
    },
    {
      "cell_type": "code",
      "execution_count": null,
      "metadata": {
        "id": "p3jnc_-DuIvv",
        "outputId": "96874562-f015-4023-cd94-8a9b4ae65ee5"
      },
      "outputs": [
        {
          "data": {
            "text/html": [
              "<div>\n",
              "<style scoped>\n",
              "    .dataframe tbody tr th:only-of-type {\n",
              "        vertical-align: middle;\n",
              "    }\n",
              "\n",
              "    .dataframe tbody tr th {\n",
              "        vertical-align: top;\n",
              "    }\n",
              "\n",
              "    .dataframe thead th {\n",
              "        text-align: right;\n",
              "    }\n",
              "</style>\n",
              "<table border=\"1\" class=\"dataframe\">\n",
              "  <thead>\n",
              "    <tr style=\"text-align: right;\">\n",
              "      <th></th>\n",
              "      <th>title</th>\n",
              "      <th>description</th>\n",
              "      <th>Category_name</th>\n",
              "      <th>Category</th>\n",
              "    </tr>\n",
              "  </thead>\n",
              "  <tbody>\n",
              "    <tr>\n",
              "      <th>0</th>\n",
              "      <td>Эбу Renault / Nissan 1,5 DCI Delphi 2001-2008 год</td>\n",
              "      <td>Комплект ЭБУ (мозги, компьютер мотора, двигате...</td>\n",
              "      <td>Запчасти и аксессуары</td>\n",
              "      <td>10</td>\n",
              "    </tr>\n",
              "    <tr>\n",
              "      <th>1</th>\n",
              "      <td>Утюг утп 1000 ватт СССР 1987 год</td>\n",
              "      <td>Продам/\\n Фото № 1-2 /\\n /\\nУтюг УТП 1000 ватт...</td>\n",
              "      <td>Бытовая техника</td>\n",
              "      <td>21</td>\n",
              "    </tr>\n",
              "    <tr>\n",
              "      <th>2</th>\n",
              "      <td>Возвму машину с выкупом</td>\n",
              "      <td>Возьму машину в аренду с последующим выкупом н...</td>\n",
              "      <td>Предложение услуг</td>\n",
              "      <td>114</td>\n",
              "    </tr>\n",
              "    <tr>\n",
              "      <th>3</th>\n",
              "      <td>Полусапожки</td>\n",
              "      <td>полусапожки в отличном состоянии, один раз оде...</td>\n",
              "      <td>Одежда, обувь, аксессуары</td>\n",
              "      <td>27</td>\n",
              "    </tr>\n",
              "    <tr>\n",
              "      <th>4</th>\n",
              "      <td>Босоножки кожаные</td>\n",
              "      <td>Кожаные(натур) босоножки Karlo Pasolini, 40 рр...</td>\n",
              "      <td>Одежда, обувь, аксессуары</td>\n",
              "      <td>27</td>\n",
              "    </tr>\n",
              "  </tbody>\n",
              "</table>\n",
              "</div>"
            ],
            "text/plain": [
              "                                               title  \\\n",
              "0  Эбу Renault / Nissan 1,5 DCI Delphi 2001-2008 год   \n",
              "1                   Утюг утп 1000 ватт СССР 1987 год   \n",
              "2                            Возвму машину с выкупом   \n",
              "3                                        Полусапожки   \n",
              "4                                  Босоножки кожаные   \n",
              "\n",
              "                                         description  \\\n",
              "0  Комплект ЭБУ (мозги, компьютер мотора, двигате...   \n",
              "1  Продам/\\n Фото № 1-2 /\\n /\\nУтюг УТП 1000 ватт...   \n",
              "2  Возьму машину в аренду с последующим выкупом н...   \n",
              "3  полусапожки в отличном состоянии, один раз оде...   \n",
              "4  Кожаные(натур) босоножки Karlo Pasolini, 40 рр...   \n",
              "\n",
              "               Category_name  Category  \n",
              "0      Запчасти и аксессуары        10  \n",
              "1            Бытовая техника        21  \n",
              "2          Предложение услуг       114  \n",
              "3  Одежда, обувь, аксессуары        27  \n",
              "4  Одежда, обувь, аксессуары        27  "
            ]
          },
          "execution_count": 3,
          "metadata": {},
          "output_type": "execute_result"
        }
      ],
      "source": [
        "train.head()"
      ]
    },
    {
      "cell_type": "code",
      "execution_count": null,
      "metadata": {
        "id": "YVJxDNlJuIvx",
        "outputId": "020362a1-9831-44f6-f149-926dc5ffa4a5"
      },
      "outputs": [
        {
          "data": {
            "text/plain": [
              "title            0\n",
              "description      2\n",
              "Category_name    0\n",
              "Category         0\n",
              "dtype: int64"
            ]
          },
          "execution_count": 4,
          "metadata": {},
          "output_type": "execute_result"
        }
      ],
      "source": [
        "train.isnull().sum()"
      ]
    },
    {
      "cell_type": "code",
      "execution_count": null,
      "metadata": {
        "id": "TLnJTy_puIvy"
      },
      "outputs": [],
      "source": [
        "train = train.fillna('')"
      ]
    },
    {
      "cell_type": "code",
      "execution_count": null,
      "metadata": {
        "id": "NfLYwb_JuIvy",
        "outputId": "4b8ccb1e-8789-40ea-bb36-14d233a99cc5"
      },
      "outputs": [
        {
          "data": {
            "text/plain": [
              "title          0\n",
              "description    1\n",
              "itemid         0\n",
              "dtype: int64"
            ]
          },
          "execution_count": 6,
          "metadata": {},
          "output_type": "execute_result"
        }
      ],
      "source": [
        "test.isnull().sum()"
      ]
    },
    {
      "cell_type": "code",
      "execution_count": null,
      "metadata": {
        "id": "STYmVt-vuIvz"
      },
      "outputs": [],
      "source": [
        "test = test.fillna('')"
      ]
    },
    {
      "cell_type": "code",
      "execution_count": null,
      "metadata": {
        "id": "r28hrnmjuIv0"
      },
      "outputs": [],
      "source": [
        "train['title and description'] = train.title + ' ' + train.description"
      ]
    },
    {
      "cell_type": "code",
      "execution_count": null,
      "metadata": {
        "id": "BIkQqdJPuIv1"
      },
      "outputs": [],
      "source": [
        "test['title and description'] = test.title + ' ' + test.description"
      ]
    },
    {
      "cell_type": "code",
      "execution_count": null,
      "metadata": {
        "id": "fEhyhqYzuIv1"
      },
      "outputs": [],
      "source": [
        "train = train.drop(['title', 'description'], axis=1)\n",
        "test = test.drop(['title', 'description'], axis=1)"
      ]
    },
    {
      "cell_type": "code",
      "execution_count": null,
      "metadata": {
        "id": "9wWXzSakuIv2",
        "outputId": "d4ddc59b-7e54-46a3-ddc2-744048c1fb3c"
      },
      "outputs": [
        {
          "data": {
            "text/plain": [
              "50"
            ]
          },
          "execution_count": 11,
          "metadata": {},
          "output_type": "execute_result"
        }
      ],
      "source": [
        "# 1\n",
        "train.Category.nunique()"
      ]
    },
    {
      "cell_type": "code",
      "execution_count": null,
      "metadata": {
        "id": "kvlMz9XNuIv3"
      },
      "outputs": [],
      "source": [
        "import pandas as pd\n",
        "import matplotlib.pyplot as plt\n",
        "import numpy as np"
      ]
    },
    {
      "cell_type": "code",
      "execution_count": null,
      "metadata": {
        "id": "ZfXgZZ3KuIv3",
        "outputId": "45f301d1-2075-4793-8a09-f69c460c7c48"
      },
      "outputs": [
        {
          "data": {
            "text/plain": [
              "<BarContainer object of 50 artists>"
            ]
          },
          "execution_count": 13,
          "metadata": {},
          "output_type": "execute_result"
        },
        {
          "data": {
            "image/png": "[encoded data removed]",
            "text/plain": [
              "<Figure size 1440x576 with 1 Axes>"
            ]
          },
          "metadata": {
            "needs_background": "light"
          },
          "output_type": "display_data"
        }
      ],
      "source": [
        "# 2\n",
        "fig, ax = plt.subplots(figsize=(20, 8))\n",
        "ax.set_xticks(np.arange(len(sorted(train.Category.unique()))))\n",
        "ax.set_xticklabels(sorted(train.Category.unique()))\n",
        "ax.bar(np.arange(len(sorted(train.Category.unique()))), train.Category.value_counts().sort_index(\n",
        ") / train.Category.value_counts().sort_index().sum(), color='blue')"
      ]
    },
    {
      "cell_type": "code",
      "execution_count": null,
      "metadata": {
        "id": "SX_cVSBhuIv4",
        "outputId": "a26fe030-3f35-4423-b5b5-304dfdea74f7"
      },
      "outputs": [
        {
          "name": "stdout",
          "output_type": "stream",
          "text": [
            "Наибольший класс:  27  с долей  0.1807067572782698\n",
            "Наименьший класс:  86  с долей  3.8969854337769914e-05\n"
          ]
        }
      ],
      "source": [
        "# 3\n",
        "# Тут присутвует средний дисбаланс классов, а это в свою очередь сильно влияет на модель.\n",
        "print('Наибольший класс: ', train.Category.value_counts().index[0], ' с долей ', max(train.Category.value_counts().sort_index(\n",
        ") / train.Category.value_counts().sort_index().sum()))\n",
        "print('Наименьший класс: ', train.Category.value_counts().index[-1], ' с долей ', min(train.Category.value_counts().sort_index(\n",
        ") / train.Category.value_counts().sort_index().sum()))"
      ]
    },
    {
      "cell_type": "code",
      "execution_count": null,
      "metadata": {
        "id": "j5-12svhuIv5",
        "outputId": "9fbc66cb-995b-4351-9a81-96da06eaa077"
      },
      "outputs": [
        {
          "data": {
            "text/plain": [
              "(4234042, 2125805)"
            ]
          },
          "execution_count": 15,
          "metadata": {},
          "output_type": "execute_result"
        }
      ],
      "source": [
        "from sklearn.feature_extraction.text import CountVectorizer\n",
        "vector = CountVectorizer()\n",
        "X = vector.fit_transform(train['title and description'])\n",
        "X.shape"
      ]
    },
    {
      "cell_type": "code",
      "execution_count": null,
      "metadata": {
        "id": "KMSYGBQAuIv6"
      },
      "outputs": [],
      "source": [
        "import re"
      ]
    },
    {
      "cell_type": "code",
      "execution_count": null,
      "metadata": {
        "id": "Qf182bWJuIv6"
      },
      "outputs": [],
      "source": [
        "search1 = re.compile('^[0-9]+')\n",
        "search2 = re.compile('^[!\"#$%&\\'()*+,-./:;<=>?@[\\\\]^_`{|}~]')"
      ]
    },
    {
      "cell_type": "code",
      "execution_count": null,
      "metadata": {
        "id": "nVBTZXqxuIv6",
        "outputId": "3bac2e54-cf4e-41ab-8c9b-ee2d68cb76da"
      },
      "outputs": [
        {
          "name": "stdout",
          "output_type": "stream",
          "text": [
            "Слова, наичнающиеся с цифр:  610871\n",
            "Слова, начинающиеся с пунктуации  2043\n"
          ]
        }
      ],
      "source": [
        "count1, count2 = 0, 0\n",
        "\n",
        "for word in vector.vocabulary_.items():\n",
        "    count1 += len(search1.findall(word[0]))\n",
        "    count2 += len(search2.findall(word[0]))\n",
        "\n",
        "print(\"Слова, наичнающиеся с цифр: \", count1)\n",
        "print(\"Слова, начинающиеся с пунктуации \", count2)"
      ]
    },
    {
      "cell_type": "code",
      "execution_count": null,
      "metadata": {
        "id": "v9Aypkl4uIv7",
        "outputId": "0b7ae913-f3ae-4314-a488-448b90251ff8"
      },
      "outputs": [
        {
          "name": "stdout",
          "output_type": "stream",
          "text": [
            "Requirement already satisfied: nltk in /Users/macbook/opt/anaconda3/lib/python3.7/site-packages (3.4.5)\n",
            "Requirement already satisfied: six in /Users/macbook/opt/anaconda3/lib/python3.7/site-packages (from nltk) (1.14.0)\n"
          ]
        }
      ],
      "source": [
        "!pip install nltk"
      ]
    },
    {
      "cell_type": "code",
      "execution_count": null,
      "metadata": {
        "id": "JCeSv7kjuIv8",
        "outputId": "15754d9e-16e1-4940-d5b3-cf0a29f4f316"
      },
      "outputs": [
        {
          "name": "stderr",
          "output_type": "stream",
          "text": [
            "[nltk_data] Downloading package punkt to /Users/macbook/nltk_data...\n",
            "[nltk_data]   Package punkt is already up-to-date!\n",
            "[nltk_data] Downloading package stopwords to\n",
            "[nltk_data]     /Users/macbook/nltk_data...\n",
            "[nltk_data]   Package stopwords is already up-to-date!\n"
          ]
        },
        {
          "data": {
            "text/plain": [
              "True"
            ]
          },
          "execution_count": 20,
          "metadata": {},
          "output_type": "execute_result"
        }
      ],
      "source": [
        "import nltk\n",
        "from nltk.stem.snowball import SnowballStemmer\n",
        "from nltk.corpus import stopwords\n",
        "from nltk.tokenize import word_tokenize\n",
        "nltk.download('punkt')\n",
        "nltk.download('stopwords')"
      ]
    },
    {
      "cell_type": "code",
      "execution_count": null,
      "metadata": {
        "id": "aUvhwGbfuIv9"
      },
      "outputs": [],
      "source": [
        "search_punct = re.compile('[!\"#$%&\\'()*+,-./:;<=>?@[\\\\]^_`{|}~]')\n",
        "search_count = re.compile('[0-9]')"
      ]
    },
    {
      "cell_type": "code",
      "execution_count": null,
      "metadata": {
        "id": "HpkE3sLAuIv9",
        "outputId": "673f2ce2-74bb-4876-b6d1-c1374d6427f1"
      },
      "outputs": [
        {
          "name": "stdout",
          "output_type": "stream",
          "text": [
            "['эб', 'renault', 'nissan', 'dci', 'delphi', 'год', 'комплект', 'эб', 'мозг', 'компьютер', 'мотор', 'двигател', 'коммутатор', 'электрон', 'блок', 'управлен', 'двигател', 'компьютер', 'мотор', 'рен', 'kangoo', 'канг', 'канг', 'мега', 'сценик', 'laguna', 'лагун', 'clio', 'кли', 'nissan', 'micra', 'нисса', 'микр', 'друг', 'рен', 'нисса', 'дизел', 'топливн', 'аппаратур', 'делф', 'оригина', 'отличн', 'состоян', 'проверен', 'гарант', 'запчаст', 'предоставля', 'гарант', 'возможн', 'установк', 'подробн', '—', 'раздел', '«', 'компан', '»', 'дорож', 'сво', 'репутац', 'торгу', 'легальн', 'контрактн', 'запчаст', 'дета', 'налич', 'таможен', 'документ', 'запчаст', 'автомобил', 'пробег', 'росс', 'отправля', 'друг', 'регион', 'таможен', 'союз', 'транспортн', 'компан', 'наложн', 'платеж']\n"
          ]
        }
      ],
      "source": [
        "def tokenaizer(line: str):\n",
        "    stemmer = SnowballStemmer('russian')\n",
        "\n",
        "    return [stemmer.stem(w)\n",
        "            for w in \n",
        "            word_tokenize(line.lower())\n",
        "            if (w not in stopwords.words('russian'))\n",
        "            and (len(search_punct.findall(w)) == 0) and (len(search_count.findall(w)) == 0)]\n",
        "print(tokenaizer(train['title and description'][0]))"
      ]
    },
    {
      "cell_type": "code",
      "execution_count": null,
      "metadata": {
        "id": "vK_QFJx-uIv-"
      },
      "outputs": [],
      "source": [
        "from sklearn.linear_model import SGDClassifier\n",
        "from sklearn.model_selection import train_test_split\n",
        "from sklearn.metrics import accuracy_score"
      ]
    },
    {
      "cell_type": "code",
      "execution_count": null,
      "metadata": {
        "id": "oR4RE6fYuIv_",
        "outputId": "b7b7be6f-7769-4d07-c7ee-8242d1fbf2f1"
      },
      "outputs": [
        {
          "name": "stdout",
          "output_type": "stream",
          "text": [
            "accuracy:  0.874608\n"
          ]
        }
      ],
      "source": [
        "np.random.seed(12345)\n",
        "random = np.random.choice(np.arange(train.shape[0]), 500000)\n",
        "\n",
        "X = CountVectorizer(tokenaizer).fit_transform(train[\"title and description\"][random])\n",
        "y = train[\"Category\"][random]\n",
        "X_train, X_test, y_train, y_test = train_test_split(X, y, test_size = 0.25, random_state = 12345)\n",
        "sgd = SGDClassifier().fit(X_train, y_train)\n",
        "print(\"accuracy: \", accuracy_score(y_test, sgd.predict(X_test)))"
      ]
    },
    {
      "cell_type": "code",
      "execution_count": null,
      "metadata": {
        "id": "BQmt319euIwA",
        "outputId": "cbb9e129-2eed-4962-eaa4-41d7078e8902"
      },
      "outputs": [
        {
          "name": "stdout",
          "output_type": "stream",
          "text": [
            "accuracy tf-idf:  0.871952\n"
          ]
        }
      ],
      "source": [
        "#1\n",
        "from sklearn.feature_extraction.text import TfidfVectorizer\n",
        "\n",
        "tok_idf = TfidfVectorizer(tokenizer = tokenaizer)\n",
        "X = tok_idf.fit_transform(train[\"title and description\"][random])\n",
        "X_train, X_test, y_train, y_test = train_test_split(X, y, test_size = 0.25, random_state = 12345) \n",
        "sgd_idf = SGDClassifier().fit(X_train, y_train)\n",
        "print(\"accuracy tf-idf: \", accuracy_score(y_test, sgd_idf.predict(X_test)))\n",
        "#качество стало хуже и время работы сильно увеличлось"
      ]
    },
    {
      "cell_type": "code",
      "execution_count": null,
      "metadata": {
        "id": "y4znOXAiuIwA",
        "outputId": "aec6289b-c981-4ed3-b37c-92e9f8b0e798"
      },
      "outputs": [
        {
          "name": "stdout",
          "output_type": "stream",
          "text": [
            "accuracy tf-idf with max_df = 0.9:  0.87336\n"
          ]
        }
      ],
      "source": [
        "#2\n",
        "tok_idf = TfidfVectorizer(tokenizer = tokenaizer,  max_df = 0.9)\n",
        "X = tok_idf.fit_transform(train[\"title and description\"][random])\n",
        "X_train, X_test, y_train, y_test = train_test_split(X, y, test_size = 0.25, random_state = 12345) \n",
        "sgd_idf = SGDClassifier().fit(X_train, y_train)\n",
        "print(\"accuracy tf-idf with max_df = 0.9: \", accuracy_score(y_test, sgd_idf.predict(X_test)))\n",
        "#размер матрицы уменьшился, но качество стало чуть лучше в сравнении с 1 пунктом"
      ]
    },
    {
      "cell_type": "code",
      "execution_count": null,
      "metadata": {
        "id": "rYnSvPb9uIwB",
        "outputId": "62df0edb-a5d6-47d4-bb29-23b945b7fa8e"
      },
      "outputs": [
        {
          "name": "stdout",
          "output_type": "stream",
          "text": [
            "аccuracy:  0.87336\n",
            "(500000, 1048576)\n"
          ]
        }
      ],
      "source": [
        "from sklearn.feature_extraction.text import HashingVectorizer\n",
        "HashingV = HashingVectorizer(tokenaizer, 30000)\n",
        "X = HashingV.fit_transform(train[\"title and description\"][random])\n",
        "sgd2 = SGDClassifier().fit(X_train, y_train)\n",
        "print(\"аccuracy: \", accuracy_score(y_test, sgd_idf.predict(X_test)))\n",
        "print(X.shape)\n",
        "#качество такое же, как во 2 пунтке 8 задания, но время работы стало лучше \n",
        "#из трех подходов оказался самым эффективным первый способ, так как этот способ показал лучший результат по качеству\n",
        "#и времени выполнения работы"
      ]
    },
    {
      "cell_type": "code",
      "execution_count": null,
      "metadata": {
        "id": "fwPT6OuZuIwC"
      },
      "outputs": [],
      "source": [
        "сounter = CountVectorizer(tokenaizer)\n",
        "\n",
        "X_train = сounter.fit_transform(train[\"title and description\"])\n",
        "y_train = train[\"Category\"]"
      ]
    },
    {
      "cell_type": "code",
      "execution_count": null,
      "metadata": {
        "id": "N_eRNV7BuIwC"
      },
      "outputs": [],
      "source": [
        "X_test = сounter.transform(test[\"title and description\"])\n",
        "sgd3 = SGDClassifier().fit(X_train, y_train)\n",
        "prediction = sgd3.predict(X_test)"
      ]
    },
    {
      "cell_type": "code",
      "execution_count": null,
      "metadata": {
        "id": "elnzvyYquIwD"
      },
      "outputs": [],
      "source": [
        "predict = pd.DataFrame(data=np.concatenate([test['itemid'].to_numpy().reshape(-1, 1),\n",
        "                                            prediction.reshape(-1, 1)], axis=1), columns=['Id', 'Category'])"
      ]
    },
    {
      "cell_type": "code",
      "execution_count": null,
      "metadata": {
        "id": "AH-1Bg12uIwD"
      },
      "outputs": [],
      "source": [
        "predict.to_csv(\"pred\", index = False)"
      ]
    },
    {
      "cell_type": "code",
      "execution_count": null,
      "metadata": {
        "id": "OxfXM7IruIwD"
      },
      "outputs": [],
      "source": [
        ""
      ]
    }
  ],
  "metadata": {
    "kernelspec": {
      "display_name": "Python 3",
      "language": "python",
      "name": "python3"
    },
    "language_info": {
      "codemirror_mode": {
        "name": "ipython",
        "version": 3
      },
      "file_extension": ".py",
      "mimetype": "text/x-python",
      "name": "python",
      "nbconvert_exporter": "python",
      "pygments_lexer": "ipython3",
      "version": "3.7.6"
    },
    "toc": {
      "base_numbering": 1,
      "nav_menu": {},
      "number_sections": true,
      "sideBar": true,
      "skip_h1_title": false,
      "title_cell": "Table of Contents",
      "title_sidebar": "Contents",
      "toc_cell": false,
      "toc_position": {},
      "toc_section_display": true,
      "toc_window_display": false
    },
    "colab": {
      "name": "hw06-second.ipynb",
      "provenance": [],
      "collapsed_sections": []
    }
  },
  "nbformat": 4,
  "nbformat_minor": 0
}